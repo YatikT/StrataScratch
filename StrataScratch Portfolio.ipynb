{
 "cells": [
  {
   "cell_type": "markdown",
   "id": "fbe794f9",
   "metadata": {},
   "source": [
    "# This Notebook contains all personal solutions for Data Science Interview Questions I've done on StrataScratch\n",
    "\n"
   ]
  },
  {
   "cell_type": "markdown",
   "id": "30ac6c4b",
   "metadata": {},
   "source": [
    "## My profile: https://platform.stratascratch.com/user/Yatik00"
   ]
  },
  {
   "cell_type": "markdown",
   "id": "ef06559b",
   "metadata": {},
   "source": [
    "#### Q1) We have a table with employees and their salaries, however, some of the records are old and contain outdated salary information. Find the current salary of each employee assuming that salaries increase each year. Output their id, first name, last name, department ID, and current salary. Order your list by employee ID in ascending order. \n",
    "***\n",
    "https://platform.stratascratch.com/coding/10299-finding-updated-records?code_type=2"
   ]
  },
  {
   "cell_type": "code",
   "execution_count": null,
   "id": "8437e164",
   "metadata": {},
   "outputs": [],
   "source": [
    "ms_employee_salary.head()\n",
    "\n",
    "ms_salary_descending = ms_employee_salary.sort_values(\"salary\", ascending = False)\n",
    "ms_salary_recent = ms_salary_descending.drop_duplicates(\"id\")\n",
    "ms_salary_recent.shape\n",
    "ms_salary_final = ms_salary_recent.sort_values(\"id\", ascending = True)\n",
    "ms_salary_final"
   ]
  },
  {
   "cell_type": "markdown",
   "id": "99597900",
   "metadata": {},
   "source": [
    "#### Q2) Find the average number of bathrooms and bedrooms for each city’s property types. Output the result along with the city name and the property type.\n",
    "***\n",
    "https://platform.stratascratch.com/coding/9622-number-of-bathrooms-and-bedrooms?code_type=2&via=keith"
   ]
  },
  {
   "cell_type": "code",
   "execution_count": null,
   "id": "24c85b01",
   "metadata": {},
   "outputs": [],
   "source": [
    "airbnb_search_details.head()\n",
    "\n",
    "airbnb_key = airbnb_search_details[['city','bathrooms','bedrooms','property_type']]\n",
    "airbnb_key.groupby(['city','property_type']).mean().reset_index()"
   ]
  },
  {
   "cell_type": "markdown",
   "id": "aac5a64a",
   "metadata": {},
   "source": [
    "#### Q3) Find the number of times the words 'bull' and 'bear' occur in the contents. We're counting the number of times the words occur so words like 'bullish' should not be included in our count. Output the word 'bull' and 'bear' along with the corresponding number of occurrences.\n",
    "***\n",
    "https://platform.stratascratch.com/coding/9814-counting-instances-in-text?code_type=2&via=keith"
   ]
  },
  {
   "cell_type": "code",
   "execution_count": null,
   "id": "b6af1e1e",
   "metadata": {},
   "outputs": [],
   "source": [
    "google_file_store.head(10)\n",
    "\n",
    "BullBear = pd.DataFrame(['Bull', 'Bear'], columns=['words'])\n",
    "# BullBear['Occurences'] = ''\n",
    "BullBear.at[0, 'Occurences'] = google_file_store[\"contents\"].str.count('bull').sum()\n",
    "BullBear.at[1, 'Occurences'] = google_file_store[\"contents\"].str.count('bear').sum()\n",
    "BullBear.head()"
   ]
  },
  {
   "cell_type": "markdown",
   "id": "488a3862",
   "metadata": {},
   "source": [
    "#### Q4) Calculate the total revenue from each customer in March 2019. Include only customers who were active in March 2019. Output the revenue along with the customer id and sort the results based on the revenue in descending order.\n",
    "***\n",
    "https://platform.stratascratch.com/coding/9782-customer-revenue-in-march?code_type=2&via=keith\n",
    "\n"
   ]
  },
  {
   "cell_type": "code",
   "execution_count": null,
   "id": "0625039c",
   "metadata": {},
   "outputs": [],
   "source": [
    "orders.head(50).sort_values(\"cust_id\", ascending = True)\n",
    "orders[\"Month\"] = orders['order_date'].dt.month\n",
    "# orders[\"Month\"] = orders[\"Month\"].astype('int64')\n",
    "orders.head(50)\n",
    "orders_march = orders[orders[\"Month\"] == 3]\n",
    "orders_march.head(50)\n",
    "orders_march_filt = orders_march[['cust_id','total_order_cost']]\n",
    "orders_march_group = orders_march_filt.groupby(['cust_id']).sum().reset_index()\n",
    "order_march_final = orders_march_group.sort_values(\"total_order_cost\", ascending = False)"
   ]
  },
  {
   "cell_type": "markdown",
   "id": "fb4cc5cb",
   "metadata": {},
   "source": [
    "#### Q5) Given a table of purchases by date, calculate the month-over-month percentage change in revenue. The output should include the year-month date (YYYY-MM) and percentage change, rounded to the 2nd decimal point, and sorted from the beginning of the year to the end of the year. The percentage change column will be populated from the 2nd month forward and can be calculated as ((this month's revenue - last month's revenue) / last month's revenue)*100.\n",
    "***\n",
    "https://platform.stratascratch.com/coding/10319-monthly-percentage-difference?code_type=2&via=keith"
   ]
  },
  {
   "cell_type": "code",
   "execution_count": 2,
   "id": "254a105f",
   "metadata": {},
   "outputs": [],
   "source": [
    "sf_transactions.head()\n",
    "sf_transactions['month'] = sf_transactions['created_at'].dt.month\n",
    "sf_transactions.head(50)\n",
    "sf_month = sf_transactions.drop_duplicates('month')\n",
    "sf_month.head(50)\n",
    "sf_month['pct_change'] = (sf_month[\"value\"].pct_change()*100).round(2) #pct_change to show % change between consecutive rows \n",
    "sf_month.head()\n",
    "sf_month['Month_Year']=sf_month['created_at'].dt.to_period('M') #Taking year and month in YYYY-MM format from datetime datatype\n",
    "sf_month.head(12)\n",
    "sf_month[[\"Month_Year\",'pct_change']]"
   ]
  },
  {
   "cell_type": "markdown",
   "id": "0cc4d962",
   "metadata": {},
   "source": [
    "#### Q6) Find the total number of downloads for paying and non-paying users by date. Include only records where non-paying customers have more downloads than paying customers. The output should be sorted by earliest date first and contain 3 columns date, non-paying downloads, paying downloads.\n",
    "***\n",
    "https://platform.stratascratch.com/coding/10300-premium-vs-freemium?code_type=2&via=keith"
   ]
  },
  {
   "cell_type": "code",
   "execution_count": null,
   "id": "00d9bedc",
   "metadata": {},
   "outputs": [],
   "source": [
    "ms_user_dimension.head()\n",
    "\n",
    "merge1 = ms_user_dimension.merge(ms_acc_dimension, left_on = 'acc_id', right_on = 'acc_id')\n",
    "merge2 = merge1.merge(ms_download_facts, left_on = \"user_id\", right_on = 'user_id')\n",
    "ms_date = merge2.sort_values('date', ascending=True)\n",
    "ms_date_filtered = ms_date[['date', 'paying_customer', 'downloads']]\n",
    "ms_date_filtered_unpaid = ms_date_filtered[ms_date_filtered[\"paying_customer\"] == \"no\"]\n",
    "ms_date_filtered_paid = ms_date_filtered[ms_date_filtered[\"paying_customer\"] == \"yes\"]\n",
    "ms_date_filtered[\"non-paying_downloads\"] = ms_date_filtered_unpaid['downloads']\n",
    "ms_date_filtered[\"paying_downloads\"] = ms_date_filtered_paid['downloads']\n",
    "ms_date_filtered = ms_date_filtered[[\"date\", 'paying_customer', 'non-paying_downloads', 'paying_downloads']]\n",
    "ms_compiled = ms_date_filtered.groupby('date').sum().reset_index()\n",
    "ms_compiled = ms_compiled[ms_compiled['non-paying_downloads'] > ms_compiled[\"paying_downloads\"]]"
   ]
  },
  {
   "cell_type": "markdown",
   "id": "7fc74479",
   "metadata": {},
   "source": [
    "## Q7) You have been asked to find the job titles of the highest-paid employees. Your output should include the highest-paid title or multiple titles with the same salary.\n",
    "***\n",
    "https://platform.stratascratch.com/coding/10353-workers-with-the-highest-salaries?code_type=2"
   ]
  },
  {
   "cell_type": "code",
   "execution_count": null,
   "id": "b98f286b",
   "metadata": {},
   "outputs": [],
   "source": [
    "merged = worker.merge(title, left_on='worker_id', right_on='worker_ref_id')\n",
    "sorted = merged.sort_values(\"salary\", ascending = False)\n",
    "sorted.iloc[0:2]['worker_title']"
   ]
  },
  {
   "cell_type": "markdown",
   "id": "206a3e63",
   "metadata": {},
   "source": [
    "## Q8) Find the top 10 users that have traveled the greatest distance. Output their id, name and a total distance traveled.\n",
    "***\n",
    "https://platform.stratascratch.com/coding/10324-distances-traveled?code_type=2"
   ]
  },
  {
   "cell_type": "code",
   "execution_count": null,
   "id": "b4df87ef",
   "metadata": {},
   "outputs": [],
   "source": [
    "lyft_rides_log.head()\n",
    "merged = lyft_rides_log.merge(lyft_users, left_on = 'user_id', right_on = 'id')\n",
    "merged1 = merged.drop(['id_y'], axis = 1)\n",
    "sort = merged1.sort_values('distance', ascending = False)\n",
    "final = sort[[\"name\", \"user_id\", \"distance\"]]\n",
    "final.head(10)"
   ]
  }
 ],
 "metadata": {
  "kernelspec": {
   "display_name": "Python 3 (ipykernel)",
   "language": "python",
   "name": "python3"
  },
  "language_info": {
   "codemirror_mode": {
    "name": "ipython",
    "version": 3
   },
   "file_extension": ".py",
   "mimetype": "text/x-python",
   "name": "python",
   "nbconvert_exporter": "python",
   "pygments_lexer": "ipython3",
   "version": "3.10.9"
  }
 },
 "nbformat": 4,
 "nbformat_minor": 5
}
